{
 "cells": [
  {
   "cell_type": "markdown",
   "metadata": {},
   "source": [
    "## Exercises: Modify the dataset"
   ]
  },
  {
   "cell_type": "code",
   "execution_count": null,
   "metadata": {},
   "outputs": [],
   "source": [
    "import pandas as pd\n",
    "employees = pd.read_json(\"../Data/employees.json\")"
   ]
  },
  {
   "cell_type": "markdown",
   "metadata": {},
   "source": [
    "**Current state of the \"employees\" dataset**\n",
    "\n",
    "Rerun the code block below after each modification you do, to see its current state."
   ]
  },
  {
   "cell_type": "code",
   "execution_count": null,
   "metadata": {},
   "outputs": [],
   "source": [
    "employees"
   ]
  },
  {
   "cell_type": "markdown",
   "metadata": {},
   "source": [
    "**Do the following operations on the \"employees\" dataset:**"
   ]
  },
  {
   "cell_type": "markdown",
   "metadata": {},
   "source": [
    "**OP1:** Create a new column \"name\" which contains the full name (eg. \"John Doe\") for each employee.\n",
    "\n",
    "<details>\n",
    "<summary>Result</summary>\n",
    "<br>\n",
    "&nbsp;&nbsp;&nbsp;<b>name</b><br>\n",
    "&nbsp;&nbsp;&nbsp;John Doe<br>\n",
    "&nbsp;&nbsp;&nbsp;Jane Smith<br>\n",
    "&nbsp;&nbsp;&nbsp;Michael Johnson<br>\n",
    "&nbsp;&nbsp;&nbsp;...<br>\n",
    "</details>"
   ]
  },
  {
   "cell_type": "code",
   "execution_count": null,
   "metadata": {},
   "outputs": [],
   "source": [
    "employees[\"name\"] = employees.loc[:, \"first_name\"] + \" \" + employees.loc[:, \"last_name\"]\n",
    "employees\n"
   ]
  },
  {
   "cell_type": "markdown",
   "metadata": {},
   "source": [
    "<div style=\"display: inline\">\n",
    "<b>OP2:</b> Create a new column \"email\" with the following format: firstname.lastname@mockcompany.com\n",
    "</div><br>\n",
    "\n",
    "*Note: email addresses should be all lower case.*\n",
    "\n",
    "<details>\n",
    "<summary>Result</summary>\n",
    "<br>\n",
    "&nbsp;&nbsp;&nbsp;<b>email</b><br>\n",
    "&nbsp;&nbsp;&nbsp;john.doe@mockcompany.com<br>\n",
    "&nbsp;&nbsp;&nbsp;jane.smith@mockcompany.com<br>\n",
    "&nbsp;&nbsp;&nbsp;michael.johnson@mockcompany.com<br>\n",
    "&nbsp;&nbsp;&nbsp;...<br>\n",
    "</details>"
   ]
  },
  {
   "cell_type": "code",
   "execution_count": null,
   "metadata": {},
   "outputs": [],
   "source": [
    "employees[\"email\"] = (employees.loc[:, \"first_name\"] + \".\" + employees.loc[:, \"last_name\"] + \"@mockcompany.com\").str.lower()\n",
    "employees"
   ]
  },
  {
   "cell_type": "markdown",
   "metadata": {},
   "source": [
    "**OP3:** Remove the columns \"first_name\" and \"last_name\", and put the columns \"name\" and \"email\" first.\n",
    "<details>\n",
    "<summary>Result</summary>\n",
    "<br>\n",
    "&nbsp;&nbsp;&nbsp;<b>name&nbsp;&nbsp;&nbsp;email&nbsp;&nbsp;&nbsp;job_title&nbsp;&nbsp;&nbsp;salary&nbsp;&nbsp;&nbsp;department</b>\n",
    "</details>"
   ]
  },
  {
   "cell_type": "code",
   "execution_count": null,
   "metadata": {},
   "outputs": [],
   "source": [
    "employees.drop(columns=[\"first_name\", \"last_name\"], inplace=True)"
   ]
  },
  {
   "cell_type": "code",
   "execution_count": null,
   "metadata": {},
   "outputs": [],
   "source": [
    "# new_order = [\"name\", \"email\", \"job_title\", \"salary\", \"department\"]\n",
    "# employees = employees[new_order]\n",
    "employees.insert(0, 'email', employees.pop('email'))\n",
    "employees.insert(0, 'name', employees.pop('name'))\n",
    "employees"
   ]
  },
  {
   "cell_type": "markdown",
   "metadata": {},
   "source": [
    "**OP4:** Update column titles to make the first letter in each title upper case. Also replace the underscore character in \"job_title\" with a space.\n",
    "<details>\n",
    "<summary>Result</summary>\n",
    "<br>\n",
    "&nbsp;&nbsp;&nbsp;<b>Name&nbsp;&nbsp;&nbsp;Email&nbsp;&nbsp;&nbsp;Job title&nbsp;&nbsp;&nbsp;Salary&nbsp;&nbsp;&nbsp;Department</b>\n",
    "</details>"
   ]
  },
  {
   "cell_type": "code",
   "execution_count": null,
   "metadata": {},
   "outputs": [],
   "source": [
    "employees.columns = [\"Name\", \"Email\", \"Job title\", \"Salary\", \"Department\"]\n",
    "employees"
   ]
  },
  {
   "cell_type": "markdown",
   "metadata": {},
   "source": [
    "**OP5:** Change the data type of column \"Salary\" to float64.\n",
    "<details>\n",
    "<summary>Result</summary>\n",
    "<br>\n",
    "&nbsp;&nbsp;&nbsp;Salary: int64 => float64\n",
    "</details>"
   ]
  },
  {
   "cell_type": "code",
   "execution_count": null,
   "metadata": {},
   "outputs": [],
   "source": [
    "employees[\"Salary\"] = employees[\"Salary\"].astype(float)\n",
    "employees[\"Salary\"].info()"
   ]
  },
  {
   "cell_type": "markdown",
   "metadata": {},
   "source": [
    "**OP6:** The company decided to give everyone in sales a 10% salary increase. Update the dataset accordingly.\n",
    "\n",
    "<details>\n",
    "<summary>Result</summary>\n",
    "<br>\n",
    "&nbsp;&nbsp;&nbsp;John Doe&nbsp;&nbsp;&nbsp;132000.0<br>\n",
    "&nbsp;&nbsp;&nbsp;Jane Smith&nbsp;&nbsp;&nbsp;60000.0<br>\n",
    "&nbsp;&nbsp;&nbsp;Michael Johnson&nbsp;&nbsp;&nbsp;110000.0\t<br>\n",
    "&nbsp;&nbsp;&nbsp;Sarah Williams&nbsp;&nbsp;&nbsp;82500.0<br>\n",
    "&nbsp;&nbsp;&nbsp;...<br>\n",
    "</details>"
   ]
  },
  {
   "cell_type": "code",
   "execution_count": null,
   "metadata": {},
   "outputs": [],
   "source": [
    "employees[\"Salary\"] = 1.1 * employees[\"Salary\"]"
   ]
  },
  {
   "cell_type": "code",
   "execution_count": null,
   "metadata": {},
   "outputs": [],
   "source": [
    "employees[\"Salary\"]"
   ]
  },
  {
   "cell_type": "markdown",
   "metadata": {},
   "source": [
    "**OP7:** The company hired a new software engineer. Add a new row with appropriate values to the dataset.\n",
    "<details>\n",
    "<summary>Result</summary>\n",
    "<br>\n",
    "<b>Example:</b><br>\n",
    "&nbsp;&nbsp;&nbsp;<b>Name:</b> Jennifer Lee<br>\n",
    "&nbsp;&nbsp;&nbsp;<b>Email:</b> jennifer.lee@mockcompany.com<br>\n",
    "&nbsp;&nbsp;&nbsp;<b>Job title:</b> Software Engineer<br>\n",
    "&nbsp;&nbsp;&nbsp;<b>Salary:</b> 100.000<br>\n",
    "&nbsp;&nbsp;&nbsp;<b>Department:</b> IT<br>\n",
    "</details>"
   ]
  },
  {
   "cell_type": "code",
   "execution_count": null,
   "metadata": {},
   "outputs": [],
   "source": [
    "employees"
   ]
  },
  {
   "cell_type": "code",
   "execution_count": null,
   "metadata": {},
   "outputs": [],
   "source": [
    "employees.loc[\"10\"] = [\"Jennifer Lee\", \"jennifer.lee@mockcompany.com\", \"Software Engineer\", \"100.000\" ,\"IT\"]\n",
    "employees"
   ]
  },
  {
   "cell_type": "markdown",
   "metadata": {},
   "source": [
    "**OP8:** The company decided to hire a lot of new software engineers.\n",
    "\n",
    "Create python code that asks the user to input the name and salary of the new software engineer, and then automatically adds the new employee to the dataset. Also, ensure that each employee get a unique index in the dataset.\n",
    "\n",
    "<details>\n",
    "<summary>Result</summary>\n",
    "<br>\n",
    "<b>Example:</b><br>\n",
    "&nbsp;&nbsp;&nbsp;Input name of new software engineer: Daniel Brown<br>\n",
    "&nbsp;&nbsp;&nbsp;Input the salary for Daniel Brown: 95.000<br>\n",
    "<br>\n",
    "&nbsp;&nbsp;&nbsp;<b>Name:</b> Daniel Brown<br>\n",
    "&nbsp;&nbsp;&nbsp;<b>Email:</b> daniel.brown@mockcompany.com<br>\n",
    "&nbsp;&nbsp;&nbsp;<b>Job title:</b> Software Engineer<br>\n",
    "&nbsp;&nbsp;&nbsp;<b>Salary:</b> 95.000<br>\n",
    "&nbsp;&nbsp;&nbsp;<b>Department:</b> IT<br>\n",
    "</details>"
   ]
  },
  {
   "cell_type": "code",
   "execution_count": null,
   "metadata": {},
   "outputs": [],
   "source": [
    "def new_employee(name, salary):\n",
    "    new_index = len(employees[\"Name\"])\n",
    "    employees.loc[new_index] = [name, (name.lower()).replace(' ', '') + \"@mockcompany.com\", \"Software Engineer\", salary , \"IT\"]\n",
    "    return employees\n",
    "\n",
    "name = input(\"Name: \")\n",
    "salary = float(input(\"Salary: \"))\n",
    "employees = new_employee(name, salary)\n"
   ]
  },
  {
   "cell_type": "code",
   "execution_count": null,
   "metadata": {},
   "outputs": [],
   "source": [
    "employees"
   ]
  },
  {
   "cell_type": "markdown",
   "metadata": {},
   "source": [
    "**OP9:** Olivia Moore quits her job. Remove her data from the dataset."
   ]
  },
  {
   "cell_type": "code",
   "execution_count": null,
   "metadata": {},
   "outputs": [],
   "source": [
    "employees.drop(index=7)\n"
   ]
  },
  {
   "cell_type": "markdown",
   "metadata": {},
   "source": [
    "**OP10**: Make sure that the python script in *OP8* still gives a unique index to each new employee, even after removing rows."
   ]
  },
  {
   "cell_type": "markdown",
   "metadata": {},
   "source": [
    "### Final note:\n",
    "Just to be clear, a real company would most likely store their employee data in a database, and loading them into a pandas dataframe to do these kind of operations wouldn't make much sense. The above examples are purely for learning the different operations of pandas."
   ]
  }
 ],
 "metadata": {
  "kernelspec": {
   "display_name": "Databehandling-AI23-toKGAHu0",
   "language": "python",
   "name": "python3"
  },
  "language_info": {
   "codemirror_mode": {
    "name": "ipython",
    "version": 3
   },
   "file_extension": ".py",
   "mimetype": "text/x-python",
   "name": "python",
   "nbconvert_exporter": "python",
   "pygments_lexer": "ipython3",
   "version": "3.11.5"
  }
 },
 "nbformat": 4,
 "nbformat_minor": 2
}
