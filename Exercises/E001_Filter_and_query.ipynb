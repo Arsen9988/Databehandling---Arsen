{
 "cells": [
  {
   "cell_type": "markdown",
   "metadata": {},
   "source": [
    "## Exercises: Filter and query data"
   ]
  },
  {
   "cell_type": "code",
   "execution_count": 1,
   "metadata": {},
   "outputs": [
    {
     "name": "stdout",
     "output_type": "stream",
     "text": [
      "<class 'pandas.core.frame.DataFrame'>\n",
      "RangeIndex: 205 entries, 0 to 204\n",
      "Data columns (total 26 columns):\n",
      " #   Column             Non-Null Count  Dtype  \n",
      "---  ------             --------------  -----  \n",
      " 0   aspiration         205 non-null    object \n",
      " 1   body-style         205 non-null    object \n",
      " 2   bore               201 non-null    float64\n",
      " 3   city-mpg           205 non-null    int64  \n",
      " 4   compression-ratio  205 non-null    float64\n",
      " 5   curb-weight        205 non-null    int64  \n",
      " 6   drive-wheels       205 non-null    object \n",
      " 7   engine-location    205 non-null    object \n",
      " 8   engine-size        205 non-null    int64  \n",
      " 9   engine-type        205 non-null    object \n",
      " 10  fuel-system        205 non-null    object \n",
      " 11  fuel-type          205 non-null    object \n",
      " 12  height             205 non-null    float64\n",
      " 13  highway-mpg        205 non-null    int64  \n",
      " 14  horsepower         203 non-null    float64\n",
      " 15  length             205 non-null    float64\n",
      " 16  make               205 non-null    object \n",
      " 17  normalized-losses  164 non-null    float64\n",
      " 18  num-of-cylinders   205 non-null    object \n",
      " 19  num-of-doors       203 non-null    object \n",
      " 20  peak-rpm           203 non-null    float64\n",
      " 21  price              201 non-null    float64\n",
      " 22  stroke             201 non-null    float64\n",
      " 23  symboling          205 non-null    int64  \n",
      " 24  wheel-base         205 non-null    float64\n",
      " 25  width              205 non-null    float64\n",
      "dtypes: float64(11), int64(5), object(10)\n",
      "memory usage: 41.8+ KB\n"
     ]
    }
   ],
   "source": [
    "import pandas as pd\n",
    "autos = pd.read_json(\"../Data/autos.json\")\n",
    "# volvo = autos.query(\"make == 'volvo' and `num-of-cylinders` == 'four'\")\n",
    "# volvo[\"price\"].max()\n",
    "autos.info()"
   ]
  },
  {
   "cell_type": "markdown",
   "metadata": {},
   "source": [
    "**Use the \"autos\" dataset to answer the following questions:**"
   ]
  },
  {
   "cell_type": "markdown",
   "metadata": {},
   "source": [
    "**Q1:** How many cars from Jaguar are in the dataset, and what is the price of the most expensive one?\n",
    "\n",
    "<details>\n",
    "<summary>Answer</summary>\n",
    "<br>\n",
    "&nbsp;&nbsp;&nbsp;count=3\n",
    "&nbsp;&nbsp;&nbsp;price=36000.0\n",
    "</details>"
   ]
  },
  {
   "cell_type": "code",
   "execution_count": null,
   "metadata": {},
   "outputs": [],
   "source": [
    "jaguar = autos.query(\"make == 'jaguar'\")\n",
    "#jaguar = autos[autos[\"make\"] == \"jaguar\"]\n",
    "\n",
    "antal_jaguar = len(autos.query(\"make == 'jaguar'\"))\n",
    "max_price_jaguar = jaguar[\"price\"].max()\n",
    "\n",
    "print(f'{antal_jaguar = }, {max_price_jaguar = }')\n",
    "jaguar"
   ]
  },
  {
   "cell_type": "markdown",
   "metadata": {},
   "source": [
    "**Q2:** How many cars from Toyota are in the dataset, and what is the price of the most expensive one?\n",
    "\n",
    "<details>\n",
    "<summary>Answer</summary>\n",
    "<br>\n",
    "&nbsp;&nbsp;&nbsp;count=32\n",
    "&nbsp;&nbsp;&nbsp;price=17669.0\n",
    "</details>"
   ]
  },
  {
   "cell_type": "code",
   "execution_count": null,
   "metadata": {},
   "outputs": [],
   "source": [
    "toyota = autos.query(\"make == 'toyota'\")\n",
    "\n",
    "antal_toyota = len(autos.query(\"make == 'toyota'\"))\n",
    "max_price_toyota = toyota[\"price\"].max()\n",
    "\n",
    "print(f'{antal_toyota = }, {max_price_toyota = }')"
   ]
  },
  {
   "cell_type": "markdown",
   "metadata": {},
   "source": [
    "**Q3:** What is the length, width and height of the most expensive car in the entire dataset?\n",
    "\n",
    "<details>\n",
    "<summary>Answer</summary>\n",
    "<br>&nbsp;&nbsp;&nbsp;length=199.2\n",
    "&nbsp;&nbsp;&nbsp;width=72.0\n",
    "&nbsp;&nbsp;&nbsp;height=55.4\n",
    "</details>"
   ]
  },
  {
   "cell_type": "code",
   "execution_count": 5,
   "metadata": {},
   "outputs": [
    {
     "data": {
      "text/html": [
       "<div>\n",
       "<style scoped>\n",
       "    .dataframe tbody tr th:only-of-type {\n",
       "        vertical-align: middle;\n",
       "    }\n",
       "\n",
       "    .dataframe tbody tr th {\n",
       "        vertical-align: top;\n",
       "    }\n",
       "\n",
       "    .dataframe thead th {\n",
       "        text-align: right;\n",
       "    }\n",
       "</style>\n",
       "<table border=\"1\" class=\"dataframe\">\n",
       "  <thead>\n",
       "    <tr style=\"text-align: right;\">\n",
       "      <th></th>\n",
       "      <th>length</th>\n",
       "      <th>width</th>\n",
       "      <th>height</th>\n",
       "    </tr>\n",
       "  </thead>\n",
       "  <tbody>\n",
       "    <tr>\n",
       "      <th>74</th>\n",
       "      <td>199.2</td>\n",
       "      <td>72.0</td>\n",
       "      <td>55.4</td>\n",
       "    </tr>\n",
       "  </tbody>\n",
       "</table>\n",
       "</div>"
      ],
      "text/plain": [
       "    length  width  height\n",
       "74   199.2   72.0    55.4"
      ]
     },
     "execution_count": 5,
     "metadata": {},
     "output_type": "execute_result"
    }
   ],
   "source": [
    "the_car = autos[autos[\"price\"] == autos[\"price\"].max()]\n",
    "the_car\n",
    "parameters = the_car[[\"length\", \"width\", \"height\"]]\n",
    "parameters\n"
   ]
  },
  {
   "cell_type": "markdown",
   "metadata": {},
   "source": [
    "**Q4:** What is the lowest price per horsepower in the dataset, and what brand (\"make\") is that car?\n",
    "\n",
    "<details>\n",
    "<summary>Answer</summary>\n",
    "<br>\n",
    "&nbsp;&nbsp;&nbsp;price per horsepower=72.84\n",
    "&nbsp;&nbsp;&nbsp;brand=Toyota\n",
    "</details>"
   ]
  },
  {
   "cell_type": "code",
   "execution_count": null,
   "metadata": {},
   "outputs": [],
   "source": [
    "lowest_price = (autos[\"price\"])/(autos[\"horsepower\"])\n",
    "lowest_price = lowest_price.min()\n",
    "cheapest = autos.loc[(autos[\"price\"])/(autos[\"horsepower\"]) == lowest_price]\n",
    "x = cheapest[\"make\"]\n",
    "print(x, lowest_price)"
   ]
  },
  {
   "cell_type": "markdown",
   "metadata": {},
   "source": [
    "**Q5:** How many of the cars in the dataset has as many cylinders as they have doors?\n",
    "\n",
    "<details>\n",
    "<summary>Answer</summary>\n",
    "<br>\n",
    "&nbsp;&nbsp;&nbsp;cars=95\n",
    "</details>"
   ]
  },
  {
   "cell_type": "code",
   "execution_count": null,
   "metadata": {},
   "outputs": [],
   "source": [
    "x = autos[autos[\"num-of-cylinders\"] == autos[\"num-of-doors\"]]\n",
    "len(x)\n",
    "\n",
    "        \n"
   ]
  },
  {
   "cell_type": "markdown",
   "metadata": {},
   "source": [
    "**Use the \"autos\" dataset and write python code to solve the following tasks:**"
   ]
  },
  {
   "cell_type": "markdown",
   "metadata": {},
   "source": [
    "**T1:** Print a string to inform the user of the price difference between the cheapest and the most expensive car in the dataset.\n",
    "\n",
    "<details>\n",
    "<summary>Solution</summary>\n",
    "<br>\n",
    "&nbsp;&nbsp;&nbsp;<b>Example:</b><br>\n",
    "&nbsp;&nbsp;&nbsp;The price difference between the cheapest and the most expensive car is 40282.0\n",
    "</details>"
   ]
  },
  {
   "cell_type": "code",
   "execution_count": null,
   "metadata": {},
   "outputs": [],
   "source": [
    "low = autos[\"price\"].min()\n",
    "high = autos[\"price\"].max()\n",
    "\n",
    "x = high - low\n",
    "x"
   ]
  },
  {
   "cell_type": "markdown",
   "metadata": {},
   "source": [
    "**T2:** Ask the user to input a brand, then print the price range for that brand.\n",
    "\n",
    "<details>\n",
    "<summary>Solution</summary>\n",
    "<br>\n",
    "&nbsp;&nbsp;&nbsp;<b>Example 1:</b><br>\n",
    "&nbsp;&nbsp;&nbsp;Input the name of a brand: volvo<br>\n",
    "&nbsp;&nbsp;&nbsp;The prices for cars of brand 'volvo' ranges from 12940.0 to 22625.0<br>\n",
    "<br>\n",
    "&nbsp;&nbsp;&nbsp;<b>Example 2:</b><br>\n",
    "&nbsp;&nbsp;&nbsp;Input the name of a brand: toyota<br>\n",
    "&nbsp;&nbsp;&nbsp;The prices for cars of brand 'toyota' ranges from 5348.0 to 17669.0<br>\n",
    "<br>\n",
    "&nbsp;&nbsp;&nbsp;<b>Example 3:</b><br>\n",
    "&nbsp;&nbsp;&nbsp;Input the name of a brand: tesla<br>\n",
    "&nbsp;&nbsp;&nbsp;The brand 'tesla' does not exists in the dataset.<br>\n",
    "</details>"
   ]
  },
  {
   "cell_type": "code",
   "execution_count": null,
   "metadata": {},
   "outputs": [],
   "source": [
    "ans = input('mata in: ')\n",
    "# all = autos.query(f\"make == '{ans}'\")\n",
    "all = autos[autos[\"make\"] == ans]\n",
    "min = all[\"price\"].min()\n",
    "max = all[\"price\"].max()\n",
    "print(min, max)\n",
    "\n"
   ]
  },
  {
   "cell_type": "markdown",
   "metadata": {},
   "source": [
    "**T3:** Ask the user to input a brand, then print the number of cars in the dataset for that brand, and all attributes for a random sample car of that brand.\n",
    "<details>\n",
    "<summary>Solution</summary>\n",
    "<br>\n",
    "&nbsp;&nbsp;&nbsp;<b>Example:</b><br>\n",
    "&nbsp;&nbsp;&nbsp;Input the name of a brand: mazda<br>\n",
    "&nbsp;&nbsp;&nbsp;There are 17 cars of brand 'mazda' in the dataset.<br><br>\n",
    "&nbsp;&nbsp;&nbsp;Here is the data for a random 'mazda' car:<br>\n",
    "&nbsp;&nbsp;&nbsp;aspiration = std<br>\n",
    "&nbsp;&nbsp;&nbsp;body-style = sedan<br>\n",
    "&nbsp;&nbsp;&nbsp;bore = 3.03<br>\n",
    "&nbsp;&nbsp;&nbsp;city-mpg = 31<br>\n",
    "&nbsp;&nbsp;&nbsp;compression-ratio = 9.0<br>\n",
    "&nbsp;&nbsp;&nbsp;curb-weight = 1945<br>\n",
    "&nbsp;&nbsp;&nbsp;drive-wheels = fwd<br>\n",
    "&nbsp;&nbsp;&nbsp;engine-location = front<br>\n",
    "&nbsp;&nbsp;&nbsp;engine-size = 91<br>\n",
    "&nbsp;&nbsp;&nbsp;engine-type = ohc<br>\n",
    "&nbsp;&nbsp;&nbsp;fuel-system = 2bbl<br>\n",
    "&nbsp;&nbsp;&nbsp;fuel-type = gas<br>\n",
    "&nbsp;&nbsp;&nbsp;height = 54.1<br>\n",
    "&nbsp;&nbsp;&nbsp;highway-mpg = 38<br>\n",
    "&nbsp;&nbsp;&nbsp;horsepower = 68.0<br>\n",
    "&nbsp;&nbsp;&nbsp;length = 166.8<br>\n",
    "&nbsp;&nbsp;&nbsp;make = mazda<br>\n",
    "&nbsp;&nbsp;&nbsp;normalized-losses = 113.0<br>\n",
    "&nbsp;&nbsp;&nbsp;num-of-cylinders = four<br>\n",
    "&nbsp;&nbsp;&nbsp;num-of-doors = four<br>\n",
    "&nbsp;&nbsp;&nbsp;peak-rpm = 5000.0<br>\n",
    "&nbsp;&nbsp;&nbsp;price = 6695.0<br>\n",
    "&nbsp;&nbsp;&nbsp;stroke = 3.15<br>\n",
    "&nbsp;&nbsp;&nbsp;symboling = 1<br>\n",
    "&nbsp;&nbsp;&nbsp;wheel-base = 93.1<br>\n",
    "&nbsp;&nbsp;&nbsp;width = 64.2<br>\n",
    "</details>"
   ]
  },
  {
   "cell_type": "code",
   "execution_count": null,
   "metadata": {},
   "outputs": [],
   "source": [
    "ans = input('mata in: ')\n",
    "all = autos[autos[\"make\"] == ans]\n",
    "num = len(autos[autos[\"make\"] == ans])\n",
    "print(all.columns)\n",
    "\n"
   ]
  },
  {
   "cell_type": "markdown",
   "metadata": {},
   "source": [
    "**T4:** Ask the user to input a brand, then export all cars of that brand to a .csv file with the same name as the brand.\n",
    "\n",
    "<details>\n",
    "<summary>Solution</summary>\n",
    "<br>\n",
    "&nbsp;&nbsp;&nbsp;<b>Example 1:</b><br>\n",
    "&nbsp;&nbsp;&nbsp;Input the name of a brand: volkswagen<br>\n",
    "&nbsp;&nbsp;&nbsp;Exported 12 cars to 'volkswagen.csv'<br>\n",
    "<br>\n",
    "&nbsp;&nbsp;&nbsp;<b>Example 2:</b><br>\n",
    "&nbsp;&nbsp;&nbsp;Input the name of a brand: tesla<br>\n",
    "&nbsp;&nbsp;&nbsp;The brand 'tesla' does not exists in the dataset.<br>\n",
    "</details>"
   ]
  },
  {
   "cell_type": "code",
   "execution_count": null,
   "metadata": {},
   "outputs": [],
   "source": [
    "ans = input('mata in: ')\n",
    "all = autos[autos[\"make\"] == ans]\n",
    "all.to_csv(f\"../Data/{ans}.csv\")"
   ]
  }
 ],
 "metadata": {
  "kernelspec": {
   "display_name": "Databehandling-AI23-toKGAHu0",
   "language": "python",
   "name": "python3"
  },
  "language_info": {
   "codemirror_mode": {
    "name": "ipython",
    "version": 3
   },
   "file_extension": ".py",
   "mimetype": "text/x-python",
   "name": "python",
   "nbconvert_exporter": "python",
   "pygments_lexer": "ipython3",
   "version": "3.11.5"
  }
 },
 "nbformat": 4,
 "nbformat_minor": 2
}
