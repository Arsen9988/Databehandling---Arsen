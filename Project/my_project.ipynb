{
 "cells": [
  {
   "cell_type": "markdown",
   "metadata": {},
   "source": [
    "## Project - France"
   ]
  },
  {
   "cell_type": "code",
   "execution_count": null,
   "metadata": {},
   "outputs": [],
   "source": [
    "import pandas as pd\n",
    "import numpy as np\n",
    "import plotly_express as px\n",
    "regions = pd.read_csv(\"./Data/noc_regions.csv\")\n",
    "athlete_events = pd.read_csv(\"./Data/athlete_events.csv\")"
   ]
  },
  {
   "cell_type": "code",
   "execution_count": null,
   "metadata": {},
   "outputs": [],
   "source": [
    "regions.head(3)"
   ]
  },
  {
   "cell_type": "code",
   "execution_count": null,
   "metadata": {},
   "outputs": [],
   "source": [
    "athlete_events.head(3)"
   ]
  },
  {
   "cell_type": "code",
   "execution_count": null,
   "metadata": {},
   "outputs": [],
   "source": [
    "\"A Dijiang\" in pd.Index(athlete_events[\"Name\"])"
   ]
  },
  {
   "cell_type": "markdown",
   "metadata": {},
   "source": [
    "- a. hur många länder som är med i datan?"
   ]
  },
  {
   "cell_type": "code",
   "execution_count": null,
   "metadata": {},
   "outputs": [],
   "source": [
    "count_countries = regions[\"region\"].nunique()\n",
    "print(f'{count_countries = }')"
   ]
  },
  {
   "cell_type": "markdown",
   "metadata": {},
   "source": [
    "- b. vilka länder är med? (förkortningarna räcker)"
   ]
  },
  {
   "cell_type": "code",
   "execution_count": null,
   "metadata": {},
   "outputs": [],
   "source": [
    "all_countries = regions[\"NOC\"].unique()\n",
    "print(f'{all_countries = }')"
   ]
  },
  {
   "cell_type": "markdown",
   "metadata": {},
   "source": [
    "-  c. vilka sporter är med?"
   ]
  },
  {
   "cell_type": "code",
   "execution_count": null,
   "metadata": {},
   "outputs": [],
   "source": [
    "all_sports = athlete_events[\"Sport\"].unique()\n",
    "print(f'{all_sports = }')"
   ]
  },
  {
   "cell_type": "markdown",
   "metadata": {},
   "source": [
    "-  d. vilka medaljtyper finns det?"
   ]
  },
  {
   "cell_type": "code",
   "execution_count": null,
   "metadata": {},
   "outputs": [],
   "source": [
    "all_medals = athlete_events[\"Medal\"].unique() # index\n",
    "print(f'{all_medals = }') # delete \"nan\" #dropna()"
   ]
  },
  {
   "cell_type": "markdown",
   "metadata": {},
   "source": [
    "-  e. ta reda på statistik för åldern: medelvärde, median, min, max, standardavvikelse,"
   ]
  },
  {
   "cell_type": "code",
   "execution_count": null,
   "metadata": {},
   "outputs": [],
   "source": [
    "age_statistics = athlete_events[\"Age\"].agg([\"mean\", \"median\", \"min\", \"max\", \"std\"])\n",
    "age_statistics # describe "
   ]
  },
  {
   "cell_type": "markdown",
   "metadata": {},
   "source": [
    "-  f. utforska datan vidare med egna frågor"
   ]
  },
  {
   "cell_type": "code",
   "execution_count": null,
   "metadata": {},
   "outputs": [],
   "source": [
    "# Förslag ?"
   ]
  },
  {
   "cell_type": "markdown",
   "metadata": {},
   "source": [
    "- g. diagram över könsfördelningen"
   ]
  },
  {
   "cell_type": "markdown",
   "metadata": {},
   "source": [
    "- h. diagram över topp 10 länder som tagit flest medaljer"
   ]
  },
  {
   "cell_type": "code",
   "execution_count": null,
   "metadata": {},
   "outputs": [],
   "source": [
    "#Fel USA = 2600+ not 5600+\n",
    "top_ten_countries = athlete_events.groupby(\"NOC\")[\"Medal\"].count().nlargest(10) # Serie\n",
    "top_ten_countries = top_ten_countries.reset_index() # DF\n",
    "# Plt\n",
    "top_ten_plt = px.bar(top_ten_countries, x=\"NOC\", y=\"Medal\")\n",
    "top_ten_plt.update_layout(xaxis_title=\"Countries\", yaxis_title=\"Medals\", title=\"Top Ten Countries by Number of Medals\")\n",
    "top_ten_plt.show()"
   ]
  },
  {
   "cell_type": "markdown",
   "metadata": {},
   "source": [
    "# filter gold"
   ]
  },
  {
   "cell_type": "code",
   "execution_count": null,
   "metadata": {},
   "outputs": [],
   "source": [
    "filter_gold = athlete_events[\"Medal\"] == \"Gold\" # .isin(\"Gold\")\n",
    "only_gold_countries = athlete_events[filter_gold]\n",
    "most_gold_country = only_gold_countries.groupby(\"NOC\")[\"Medal\"].size().idxmax() # idx = country\n",
    "number_gold = only_gold_countries.groupby(\"NOC\")[\"Medal\"].size().max() # max = value\n",
    "print(f'{most_gold_country = }, \\n{number_gold = }')\n"
   ]
  },
  {
   "cell_type": "markdown",
   "metadata": {},
   "source": [
    "# Summer Winter TOP 10"
   ]
  },
  {
   "cell_type": "code",
   "execution_count": null,
   "metadata": {},
   "outputs": [],
   "source": [
    "filter_gold = athlete_events[\"Medal\"] == \"Gold\"\n",
    "only_gold_countries = athlete_events[filter_gold] # new df with only \"Gold\" \n",
    "\n",
    "filter_summer = only_gold_countries[\"Season\"] == \"Summer\"\n",
    "summer_gold = only_gold_countries[filter_summer] # new df with only \"Gold\" and \"Summer\"\n",
    "\n",
    "filter_winter = only_gold_countries[\"Season\"] == \"Winter\"\n",
    "winter_gold = only_gold_countries[filter_winter] # new df with only \"Gold\" and \"Winter\"\n",
    "\n",
    "top_ten_summer = summer_gold.groupby(\"NOC\")[\"Medal\"].size().nlargest(10)\n",
    "top_ten_winter = winter_gold.groupby(\"NOC\")[\"Medal\"].size().nlargest(10)\n",
    "\n",
    "top_ten_summer = top_ten_summer.reset_index() # DF os Serie\n",
    "top_ten_winter = top_ten_winter.reset_index() # DF os Serie\n",
    "display(top_ten_summer, top_ten_winter)"
   ]
  }
 ],
 "metadata": {
  "kernelspec": {
   "display_name": "Databehandling-Arsen-YSaeh726",
   "language": "python",
   "name": "python3"
  },
  "language_info": {
   "codemirror_mode": {
    "name": "ipython",
    "version": 3
   },
   "file_extension": ".py",
   "mimetype": "text/x-python",
   "name": "python",
   "nbconvert_exporter": "python",
   "pygments_lexer": "ipython3",
   "version": "3.11.5"
  }
 },
 "nbformat": 4,
 "nbformat_minor": 2
}
