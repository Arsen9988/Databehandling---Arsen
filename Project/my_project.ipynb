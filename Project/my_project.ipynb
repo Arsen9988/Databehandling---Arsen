{
 "cells": [
  {
   "cell_type": "markdown",
   "metadata": {},
   "source": [
    "## Project - France"
   ]
  },
  {
   "cell_type": "code",
   "execution_count": null,
   "metadata": {},
   "outputs": [],
   "source": [
    "import pandas as pd\n",
    "import numpy as np\n",
    "regions = pd.read_csv(\"./Data/noc_regions.csv\")\n",
    "athlete_events = pd.read_csv(\"./Data/athlete_events.csv\")"
   ]
  },
  {
   "cell_type": "code",
   "execution_count": null,
   "metadata": {},
   "outputs": [],
   "source": [
    "regions.head(3)"
   ]
  },
  {
   "cell_type": "code",
   "execution_count": null,
   "metadata": {},
   "outputs": [],
   "source": [
    "athlete_events.head(3)"
   ]
  },
  {
   "cell_type": "markdown",
   "metadata": {},
   "source": [
    "- a. hur många länder som är med i datan?"
   ]
  },
  {
   "cell_type": "code",
   "execution_count": null,
   "metadata": {},
   "outputs": [],
   "source": [
    "count_countries = regions[\"region\"].nunique()\n",
    "print(f'{count_countries = }')"
   ]
  },
  {
   "cell_type": "markdown",
   "metadata": {},
   "source": [
    "- b. vilka länder är med? (förkortningarna räcker)"
   ]
  },
  {
   "cell_type": "code",
   "execution_count": null,
   "metadata": {},
   "outputs": [],
   "source": [
    "all_countries = regions[\"region\"].unique()\n",
    "print(f'{all_countries = }')\n",
    "\n",
    "# Eller \"NOC\" eftersom det står -\"förkortningarna räcker\" ????\n",
    "\n",
    "# all_countries = regions[\"NOC\"].unique()\n",
    "# print(f'{all_countries = }')"
   ]
  },
  {
   "cell_type": "markdown",
   "metadata": {},
   "source": [
    "-  c. vilka sporter är med?"
   ]
  },
  {
   "cell_type": "code",
   "execution_count": null,
   "metadata": {},
   "outputs": [],
   "source": [
    "all_sports = athlete_events[\"Sport\"].unique()\n",
    "print(f'{all_sports = }')"
   ]
  },
  {
   "cell_type": "markdown",
   "metadata": {},
   "source": [
    "-  d. vilka medaljtyper finns det?"
   ]
  },
  {
   "cell_type": "code",
   "execution_count": null,
   "metadata": {},
   "outputs": [],
   "source": [
    "all_medals = athlete_events[\"Medal\"].unique()\n",
    "print(f'{all_medals = }') # delete \"nan\""
   ]
  },
  {
   "cell_type": "markdown",
   "metadata": {},
   "source": [
    "-  e. ta reda på statistik för åldern: medelvärde, median, min, max, standardavvikelse,"
   ]
  },
  {
   "cell_type": "code",
   "execution_count": null,
   "metadata": {},
   "outputs": [],
   "source": [
    "age_statistics = athlete_events[\"Age\"].agg([\"mean\", \"median\", \"min\", \"max\", \"std\"])\n",
    "age_statistics"
   ]
  },
  {
   "cell_type": "markdown",
   "metadata": {},
   "source": [
    "-  f. utforska datan vidare med egna frågor"
   ]
  },
  {
   "cell_type": "code",
   "execution_count": null,
   "metadata": {},
   "outputs": [],
   "source": [
    "# Förslag ?"
   ]
  },
  {
   "cell_type": "markdown",
   "metadata": {},
   "source": [
    "- g. diagram över könsfördelningen"
   ]
  },
  {
   "cell_type": "markdown",
   "metadata": {},
   "source": [
    "- h. diagram över topp 10 länder som tagit flest medaljer"
   ]
  },
  {
   "cell_type": "markdown",
   "metadata": {},
   "source": [
    "- i. plotta gärna fler saker som är intressant"
   ]
  }
 ],
 "metadata": {
  "kernelspec": {
   "display_name": "Databehandling-Arsen-YSaeh726",
   "language": "python",
   "name": "python3"
  },
  "language_info": {
   "codemirror_mode": {
    "name": "ipython",
    "version": 3
   },
   "file_extension": ".py",
   "mimetype": "text/x-python",
   "name": "python",
   "nbconvert_exporter": "python",
   "pygments_lexer": "ipython3",
   "version": "3.11.5"
  }
 },
 "nbformat": 4,
 "nbformat_minor": 2
}
