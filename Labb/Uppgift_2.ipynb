{
 "cells": [
  {
   "cell_type": "markdown",
   "metadata": {},
   "source": [
    "# Uppgift 2 - uppvärmning vaccindata"
   ]
  },
  {
   "cell_type": "code",
   "execution_count": null,
   "metadata": {},
   "outputs": [],
   "source": [
    "import pandas as pd\n",
    "vaccine = pd.read_excel(\"covid_data\\Folkhalsomyndigheten_Covid19_Vaccine.xlsx\", \"Vaccinerade kommun och ålder\")\n",
    "display(vaccine.shape)\n",
    "vaccine.head(3)"
   ]
  },
  {
   "cell_type": "markdown",
   "metadata": {},
   "source": [
    "- a) Hur många län finns representerade i datasetet?\n"
   ]
  },
  {
   "cell_type": "code",
   "execution_count": null,
   "metadata": {},
   "outputs": [],
   "source": [
    "count_län = len(vaccine[\"Län_namn\"].unique()) \n",
    "print(f\"{count_län = }\") # 21"
   ]
  },
  {
   "cell_type": "markdown",
   "metadata": {},
   "source": [
    "- b) Hur många kommuner finns representerade i datasetet?\n",
    "\n"
   ]
  },
  {
   "cell_type": "code",
   "execution_count": null,
   "metadata": {},
   "outputs": [],
   "source": [
    "count_kommun = vaccine[\"Kommun_namn\"].nunique()\n",
    "print(f\"{count_kommun = }\") #290"
   ]
  },
  {
   "cell_type": "markdown",
   "metadata": {},
   "source": [
    "- c) Hur stor är befolkningen som är representerad i datasetet?"
   ]
  },
  {
   "cell_type": "code",
   "execution_count": null,
   "metadata": {},
   "outputs": [],
   "source": [
    "count_befolkning = sum(vaccine[\"Befolkning\"])\n",
    "print(f\"{count_befolkning = }\") "
   ]
  },
  {
   "cell_type": "markdown",
   "metadata": {},
   "source": [
    "- d) Beräkna hur många barn under 18 år det finns i Sverige baserat på det här datasetet. Du får leta upp\n",
    "statistik på hur stor totala befolkningen är i Sverige."
   ]
  },
  {
   "cell_type": "code",
   "execution_count": null,
   "metadata": {},
   "outputs": [],
   "source": [
    "# all under age 18 ****-baserat på det här datasetet\n",
    "filter_age = (vaccine[\"Ålder\"] == \"12-15\") | (vaccine[\"Ålder\"] == \"16-17\")\n",
    "under_age = vaccine[filter_age]\n",
    "count_under_age = sum(under_age[\"Befolkning\"])\n",
    "print(f\"{count_under_age = }\") #745370"
   ]
  },
  {
   "cell_type": "markdown",
   "metadata": {},
   "source": [
    "- e) Rita ett diagram som visar på åldersfördelningen av Sveriges befolkning."
   ]
  },
  {
   "cell_type": "code",
   "execution_count": null,
   "metadata": {},
   "outputs": [],
   "source": [
    "import plotly.express as px\n",
    "sw_age = px.pie(vaccine, names=\"Ålder\", values=\"Befolkning\", title=\"Åldersfördelning i Sverige\")\n",
    "sw_age.write_html(\"./Visualiseringar/uppgift_2/Åldersfördelning.html\") # Save as html\n",
    "sw_age.show()"
   ]
  },
  {
   "cell_type": "markdown",
   "metadata": {},
   "source": [
    "- f) Rita stapeldiagram för andel med minst 1 dos per län, andel två doser per län och andel tre doser per\n",
    "län"
   ]
  },
  {
   "cell_type": "code",
   "execution_count": null,
   "metadata": {},
   "outputs": [],
   "source": [
    "sum_antal_doser = vaccine.groupby(\"Län_namn\")[[\"Antal minst 1 dos\", \"Antal minst 2 doser\", \"Antal 3 doser\", \"Antal 4 doser\"]].sum()\n",
    "sum_befolk = vaccine.groupby(\"Län_namn\")[\"Befolkning\"].sum()\n",
    "\n",
    "new_df = pd.concat([sum_befolk, sum_antal_doser], axis=\"columns\")\n",
    "new_df.reset_index(inplace=True)\n",
    "new_df.head(3)"
   ]
  },
  {
   "cell_type": "code",
   "execution_count": null,
   "metadata": {},
   "outputs": [],
   "source": [
    "# count Andel\n",
    "new_df[\"Andel minst 1 dos\"] = new_df[\"Antal minst 1 dos\"] / new_df[\"Befolkning\"]\n",
    "new_df[\"Andel minst 2 doser\"] = new_df[\"Antal minst 2 doser\"] / new_df[\"Befolkning\"]\n",
    "new_df[\"Andel 3 doser\"] = new_df[\"Antal 3 doser\"] / new_df[\"Befolkning\"]\n",
    "new_df[\"Andel 4 doser\"] = new_df[\"Antal 4 doser\"] / new_df[\"Befolkning\"]\n",
    "new_df.head(3)"
   ]
  },
  {
   "cell_type": "code",
   "execution_count": null,
   "metadata": {},
   "outputs": [],
   "source": [
    "doser = px.bar(new_df, x=\"Län_namn\", y=[\"Andel minst 1 dos\", \"Andel minst 2 doser\", \"Andel 3 doser\"], barmode=\"group\")\n",
    "doser.update_layout(legend_title_text=\"Doser\", \n",
    "                    yaxis_title=\"Andel doser\")\n",
    "doser.write_html(\"./Visualiseringar/uppgift_2/Andel_doser_län.html\") # Save as html\n",
    "doser.show()"
   ]
  },
  {
   "cell_type": "markdown",
   "metadata": {},
   "source": [
    "- f) Tag Västra Götalands län och Stockholms län och rita diagram över andelen vaccinerade med minst 1 dos,\n",
    "två doser, tre doser och fyra doser."
   ]
  },
  {
   "cell_type": "code",
   "execution_count": null,
   "metadata": {},
   "outputs": [],
   "source": [
    "filter_region = (new_df[\"Län_namn\"] == \"Stockholms län\") | (new_df[\"Län_namn\"] == \"Västra Götalands län\")\n",
    "sthlm_gbg = new_df[filter_region] # new df\n",
    "sthlm_gbg\n"
   ]
  },
  {
   "cell_type": "code",
   "execution_count": null,
   "metadata": {},
   "outputs": [],
   "source": [
    "two_regions = px.bar(sthlm_gbg, x=\"Län_namn\", y=[\"Andel minst 1 dos\", \"Andel minst 2 doser\", \"Andel 3 doser\", \"Andel 4 doser\"], barmode=\"group\")\n",
    "two_regions.update_layout(legend_title_text=\"Doser\", \n",
    "                          yaxis_title=\"Andel doser\")\n",
    "two_regions.write_html(\"./Visualiseringar/uppgift_2/Andel_doser_sthlm_gbg.html\") # Save as html\n",
    "two_regions.show()"
   ]
  }
 ],
 "metadata": {
  "kernelspec": {
   "display_name": "Databehandling-Arsen-YSaeh726",
   "language": "python",
   "name": "python3"
  },
  "language_info": {
   "codemirror_mode": {
    "name": "ipython",
    "version": 3
   },
   "file_extension": ".py",
   "mimetype": "text/x-python",
   "name": "python",
   "nbconvert_exporter": "python",
   "pygments_lexer": "ipython3",
   "version": "3.11.5"
  }
 },
 "nbformat": 4,
 "nbformat_minor": 2
}
