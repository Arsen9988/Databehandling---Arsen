{
 "cells": [
  {
   "cell_type": "markdown",
   "metadata": {},
   "source": [
    "# Uppgift 1 - uppvärmning covid-19 data\n"
   ]
  },
  {
   "cell_type": "markdown",
   "metadata": {},
   "source": [
    "- a) Gör initial dataanalys för att snabbt få en överblick över datasetet. Använd metoder som ex. info(), describe(), value_counts(), head(), columns, index för att snabbt få en överblick."
   ]
  },
  {
   "cell_type": "code",
   "execution_count": null,
   "metadata": {},
   "outputs": [],
   "source": [
    "import pandas as pd\n",
    "\n",
    "covid = pd.read_excel(\"covid_data\\Folkhalsomyndigheten_Covid19.xlsx\", \"Veckodata Riket\")\n",
    "#b = pd.read_excel(\"Folkhalsomyndigheten_Covid19_Vaccine.xlsx\")\n",
    "#covid.info()\n",
    "#covid.shape\n",
    "covid.head(3)\n"
   ]
  },
  {
   "cell_type": "markdown",
   "metadata": {},
   "source": [
    "- b) Slå ihop kolumnerna \"år\" och \"veckonummer\" till en kolumn med namn \"Vecka\" "
   ]
  },
  {
   "cell_type": "code",
   "execution_count": null,
   "metadata": {},
   "outputs": [],
   "source": [
    "covid[\"Vecka\"] = covid[\"år\"].astype(str) + \"v\" + covid[\"veckonummer\"].astype(str)\n",
    "covid.insert(0, \"Vecka\", covid.pop(\"Vecka\")) # changing position for Column \"Vecka\" from last to first\n",
    "covid.head(3)\n",
    "covid.shape"
   ]
  },
  {
   "cell_type": "markdown",
   "metadata": {},
   "source": [
    "- c) Rita en linjediagram som visar avlidna fall per vecka från 2020v6 till nu"
   ]
  },
  {
   "cell_type": "markdown",
   "metadata": {},
   "source": [
    "Plotly express"
   ]
  },
  {
   "cell_type": "code",
   "execution_count": 1,
   "metadata": {},
   "outputs": [],
   "source": [
    "\n",
    "import plotly.express as px\n",
    "# avlid_vecka = px.line(covid, x=\"Vecka\", y=\"Antal_avlidna_vecka\")\n",
    "# avlid_vecka.write_html(\"./html/avlidna_per_vecka.html\")\n",
    "# avlid_vecka.show()\n"
   ]
  },
  {
   "cell_type": "markdown",
   "metadata": {},
   "source": [
    "Seaborn"
   ]
  },
  {
   "cell_type": "code",
   "execution_count": null,
   "metadata": {},
   "outputs": [],
   "source": [
    "# # Delete every other line in df to avoid overlapping \n",
    "filter_for_plt = covid.index % 2 == 1\n",
    "plt_covid = covid[filter_for_plt]\n",
    "\n",
    "import seaborn as sns\n",
    "import matplotlib.pyplot as plt\n",
    "\n",
    "# # Skapa en större figur\n",
    "# plt.figure(figsize=(17, 10))  # Change the size \n",
    "# plt.xticks(rotation=-90) # rotate every label of every single week\n",
    "# plt.ylabel(\"Avlidna per vecka\") \n",
    "# # Seaborn\n",
    "# #sns.set(style=\"whitegrid\")\n",
    "# #sns.lineplot(x=\"Vecka\", y=\"Antal_avlidna_vecka\", data=plt_covid)"
   ]
  },
  {
   "cell_type": "markdown",
   "metadata": {},
   "source": [
    "- d) Rita en linjediagram som visar nya fall per vecka från 2020v6 till nu."
   ]
  },
  {
   "cell_type": "markdown",
   "metadata": {},
   "source": [
    "Plotly express"
   ]
  },
  {
   "cell_type": "code",
   "execution_count": null,
   "metadata": {},
   "outputs": [],
   "source": [
    "\n",
    "# nya_fall_vecka = px.line(covid, x=\"Vecka\", y=\"Antal_fall_vecka\")\n",
    "# nya_fall_vecka.write_html(\"./html/nya_fall_vecka.html\")\n",
    "# nya_fall_vecka.show()\n"
   ]
  },
  {
   "cell_type": "markdown",
   "metadata": {},
   "source": [
    "Seaborn"
   ]
  },
  {
   "cell_type": "code",
   "execution_count": null,
   "metadata": {},
   "outputs": [],
   "source": [
    "# plt.figure(figsize=(17, 10))  # Change the size \n",
    "# plt.xticks(rotation=-90) # rotate every label of every single week\n",
    "# plt.ylabel(\"Antal människor\") \n",
    "# # Seaborn\n",
    "# sns.set(style=\"whitegrid\")\n",
    "# sns.lineplot(x=\"Vecka\", y=\"Antal_fall_vecka\", data=plt_covid)\n",
    "# plt.show()\n"
   ]
  },
  {
   "cell_type": "markdown",
   "metadata": {},
   "source": [
    "- e) Rita linjediagram av både avlidna fall per vecka och nya fall per vecka i samma fönster från 2020v6 till nu."
   ]
  },
  {
   "cell_type": "markdown",
   "metadata": {},
   "source": [
    "Plotly express"
   ]
  },
  {
   "cell_type": "code",
   "execution_count": null,
   "metadata": {},
   "outputs": [],
   "source": [
    "# avlidna_and_nya = px.line(covid, x=\"Vecka\", y=[\"Antal_fall_vecka\", \"Antal_avlidna_vecka\"])\n",
    "# avlidna_and_nya.write_html(\"./html/avlidna_and_nya.html\")\n",
    "# avlidna_and_nya.update_yaxes(title_text=\"Antal Människor\")\n",
    "# avlidna_and_nya.update_layout(legend_title_text=\"Grafer\")\n",
    "# avlidna_and_nya.show()"
   ]
  },
  {
   "cell_type": "markdown",
   "metadata": {},
   "source": [
    "Seaborn"
   ]
  },
  {
   "cell_type": "code",
   "execution_count": null,
   "metadata": {},
   "outputs": [],
   "source": [
    "# plt.figure(figsize=(17, 10))  # Change the size \n",
    "# plt.xticks(rotation=-90) # rotate every label of every single week\n",
    "# plt.ylabel(\"Antal människor\") \n",
    "# # Seaborn\n",
    "# sns.set(style=\"whitegrid\")\n",
    "# sns.lineplot(x=\"Vecka\", y=\"Antal_fall_vecka\", data=plt_covid, label=\"Antal nya fall\")\n",
    "# sns.lineplot(x=\"Vecka\", y=\"Antal_avlidna_vecka\", data=plt_covid, label=\"Antal avlidna\")\n",
    "# plt.legend()\n",
    "# plt.show()"
   ]
  },
  {
   "cell_type": "markdown",
   "metadata": {},
   "source": [
    "- f) Rita linjediagram av kumulativt antal fall från 2020v6 till nu."
   ]
  },
  {
   "cell_type": "markdown",
   "metadata": {},
   "source": [
    "Plotly express"
   ]
  },
  {
   "cell_type": "code",
   "execution_count": null,
   "metadata": {},
   "outputs": [],
   "source": [
    "# kum_vecka = px.line(covid, x=\"Vecka\", y=\"Kum_antal_fall\")\n",
    "# kum_vecka.write_html(\"./html/kum_vecka.html\")\n",
    "# kum_vecka.show()"
   ]
  },
  {
   "cell_type": "markdown",
   "metadata": {},
   "source": [
    "Seaborn"
   ]
  },
  {
   "cell_type": "code",
   "execution_count": null,
   "metadata": {},
   "outputs": [],
   "source": [
    "# plt.figure(figsize=(17, 10))  # Change the size \n",
    "# plt.xticks(rotation=-90) # rotate every label of every single week\n",
    "# plt.ylabel(\"Kumulativt antal fall\") \n",
    "# # Seaborn\n",
    "# sns.set(style=\"whitegrid\")\n",
    "# sns.lineplot(x=\"Vecka\", y=\"Kum_antal_fall\", data=plt_covid)\n",
    "# plt.show()"
   ]
  }
 ],
 "metadata": {
  "kernelspec": {
   "display_name": "Databehandling-Arsen-YSaeh726",
   "language": "python",
   "name": "python3"
  },
  "language_info": {
   "codemirror_mode": {
    "name": "ipython",
    "version": 3
   },
   "file_extension": ".py",
   "mimetype": "text/x-python",
   "name": "python",
   "nbconvert_exporter": "python",
   "pygments_lexer": "ipython3",
   "version": "3.11.5"
  }
 },
 "nbformat": 4,
 "nbformat_minor": 2
}
