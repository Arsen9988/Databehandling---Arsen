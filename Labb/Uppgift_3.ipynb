{
 "cells": [
  {
   "cell_type": "markdown",
   "metadata": {},
   "source": [
    "# Uppgift 3 - KPIer & explorativ dataanalys"
   ]
  },
  {
   "cell_type": "markdown",
   "metadata": {},
   "source": [
    "### Syfte: Hitta den mest och minst drabbade regionerna i Sverige (anatl avlidna/tot. antal fall)"
   ]
  },
  {
   "cell_type": "code",
   "execution_count": null,
   "metadata": {},
   "outputs": [],
   "source": [
    "import pandas as pd\n",
    "df = pd.read_excel(\"./covid_data/Folkhalsomyndigheten_Covid19.xlsx\", \"Totalt antal per region\") # Region\n",
    "display(df.shape)\n",
    "df.head(3)"
   ]
  },
  {
   "cell_type": "code",
   "execution_count": null,
   "metadata": {},
   "outputs": [],
   "source": [
    "# Adding new Column\n",
    "df[\"Avlidna_%\"] = (df[\"Totalt_antal_avlidna\"] / df[\"Totalt_antal_fall\"]) * 100 \n",
    "df.head(3)"
   ]
  },
  {
   "cell_type": "code",
   "execution_count": null,
   "metadata": {},
   "outputs": [],
   "source": [
    "filter_lowest_death = df[\"Avlidna_%\"] == df[\"Avlidna_%\"].min()\n",
    "filter_highest_death = df[\"Avlidna_%\"] == df[\"Avlidna_%\"].max()\n",
    "# tho new filtered df\n",
    "least_affected = df[filter_lowest_death] # New filtered df\n",
    "most_affected = df[filter_highest_death]\n",
    "\n",
    "least_most = pd.concat([least_affected, most_affected])\n",
    "least_most.reset_index(inplace=True) # set new index\n",
    "least_most.drop(columns=\"index\", inplace=True) # delete old index\n",
    "least_most"
   ]
  },
  {
   "cell_type": "code",
   "execution_count": null,
   "metadata": {},
   "outputs": [],
   "source": [
    "import plotly_express as px\n",
    "# The most and lesat affected regions\n",
    "two_regions = px.bar(least_most, x=\"Region\", y=\"Avlidna_%\")\n",
    "two_regions.write_html(\"./Visualiseringar/uppgift_3/regioner/mest_och_minst_drabbade.html\") # Save as html\n",
    "two_regions.show()"
   ]
  },
  {
   "cell_type": "code",
   "execution_count": null,
   "metadata": {},
   "outputs": [],
   "source": [
    "# All Regions sorted by death-%\n",
    "sorted_df = df.sort_values(by=\"Avlidna_%\", ascending=True)\n",
    "all_regions = px.bar(sorted_df, x=\"Region\", y=\"Avlidna_%\")\n",
    "all_regions.write_html(\"./Visualiseringar/uppgift_3/regioner/alla_regioner_sorted.html\")\n",
    "all_regions.show()"
   ]
  },
  {
   "cell_type": "markdown",
   "metadata": {},
   "source": [
    "### Slutsats: \n",
    "- Västernorrland är den mest drabbade regionen i Sverige med ca 1,2% avlidna av totala antal fall\n",
    "- Hallan är den minst drabbade regionen i Sverige med ca 0.47% avlidna av totala antal fall"
   ]
  },
  {
   "cell_type": "markdown",
   "metadata": {},
   "source": [
    "### *************************************************************************************"
   ]
  },
  {
   "cell_type": "markdown",
   "metadata": {},
   "source": [
    "###  Syfte:  analysera hur Covid påverkade befolkningen baserat på kön."
   ]
  },
  {
   "cell_type": "code",
   "execution_count": null,
   "metadata": {},
   "outputs": [],
   "source": [
    "sex = pd.read_excel(\"./covid_data/Folkhalsomyndigheten_Covid19.xlsx\", \"Totalt antal per kön\") #Kön\n",
    "sex"
   ]
  },
  {
   "cell_type": "code",
   "execution_count": null,
   "metadata": {},
   "outputs": [],
   "source": [
    "# Adding new Column\n",
    "sex[\"Avlidna_%\"] = (sex[\"Totalt_antal_avlidna\"] / sex[\"Totalt_antal_fall\"]) * 100\n",
    "sex"
   ]
  },
  {
   "cell_type": "code",
   "execution_count": null,
   "metadata": {},
   "outputs": [],
   "source": [
    "number_of_cases = px.bar(sex, x=\"Kön\", y=\"Totalt_antal_fall\")\n",
    "number_of_cases.write_html(\"./Visualiseringar/uppgift_3/kön/kön_antal_fall.html\")\n",
    "number_of_cases.show()"
   ]
  },
  {
   "cell_type": "code",
   "execution_count": null,
   "metadata": {},
   "outputs": [],
   "source": [
    "number_of_death = px.bar(sex, x=\"Kön\", y=\"Totalt_antal_avlidna\")\n",
    "number_of_death.write_html(\"./Visualiseringar/uppgift_3/kön/kön_antal_avlidna.html\")\n",
    "number_of_death.show()"
   ]
  },
  {
   "cell_type": "code",
   "execution_count": null,
   "metadata": {},
   "outputs": [],
   "source": [
    "death_procent = px.bar(sex, x=\"Kön\", y=\"Avlidna_%\")\n",
    "death_procent.write_html(\"./Visualiseringar/uppgift_3/kön/kön_procent_avlidna.html\")\n",
    "death_procent.show()"
   ]
  },
  {
   "cell_type": "markdown",
   "metadata": {},
   "source": [
    "### Slutsats: \n",
    "- Antal smittade Män är ca 170.000 mindre än Kvinnor\n",
    "- Trots det är antalet avlidna Män ca 2000 st mer än kvinnor\n",
    "- Cirka 0.93% av de smittade männen har avlidit.\n",
    "- Cirka 0.67% av de smittade kvinnorna har avlidit."
   ]
  },
  {
   "cell_type": "markdown",
   "metadata": {},
   "source": [
    "### *************************************************************************************"
   ]
  },
  {
   "cell_type": "markdown",
   "metadata": {},
   "source": [
    "### Syfte: Ta fram Kommunerna med högst och lägsta andel vaccinationer(dos-1) i Sverige."
   ]
  },
  {
   "cell_type": "code",
   "execution_count": null,
   "metadata": {},
   "outputs": [],
   "source": [
    "kom = pd.read_excel(\"./covid_data/Folkhalsomyndigheten_Covid19_Vaccine.xlsx\", \"Vaccinerade kommun\") # Vaccine\n",
    "kom.head(3)"
   ]
  },
  {
   "cell_type": "code",
   "execution_count": null,
   "metadata": {},
   "outputs": [],
   "source": [
    "filter_lowest = kom[\"Andel_dos1\"] == kom[\"Andel_dos1\"].min()\n",
    "lowest = kom[filter_lowest]\n",
    "filter_highest = kom[\"Andel_dos1\"] == kom[\"Andel_dos1\"].max()\n",
    "highest = kom[filter_highest]\n",
    "display(lowest)\n",
    "display(highest)"
   ]
  },
  {
   "cell_type": "code",
   "execution_count": null,
   "metadata": {},
   "outputs": [],
   "source": [
    "low_high = pd.concat([lowest, highest]) # New df of 2 filtered\n",
    "low_high.reset_index(inplace=True) # set new index\n",
    "low_high.drop(columns=['index'], inplace=True) # delete old index\n",
    "display(low_high)"
   ]
  },
  {
   "cell_type": "code",
   "execution_count": null,
   "metadata": {},
   "outputs": [],
   "source": [
    "two_kom = px.bar(low_high, x=\"KnNamn\", y=\"Andel_dos1\")\n",
    "two_kom.write_html(\"./Visualiseringar/uppgift_3/vaccine/kommun_andel_vaccine.html\")\n",
    "two_kom.show()"
   ]
  },
  {
   "cell_type": "markdown",
   "metadata": {},
   "source": [
    "### Slutsats: \n",
    "- Botkyrka har lägst andel vaccinationer. Bara 70% av invånarna har tagit dos_1.\n",
    "- Hmmarö har högsta andel vaccinationer. Drygt 93% av invånarna har tagit dos_1."
   ]
  }
 ],
 "metadata": {
  "kernelspec": {
   "display_name": "Databehandling-Arsen-YSaeh726",
   "language": "python",
   "name": "python3"
  },
  "language_info": {
   "codemirror_mode": {
    "name": "ipython",
    "version": 3
   },
   "file_extension": ".py",
   "mimetype": "text/x-python",
   "name": "python",
   "nbconvert_exporter": "python",
   "pygments_lexer": "ipython3",
   "version": "3.11.5"
  }
 },
 "nbformat": 4,
 "nbformat_minor": 2
}
